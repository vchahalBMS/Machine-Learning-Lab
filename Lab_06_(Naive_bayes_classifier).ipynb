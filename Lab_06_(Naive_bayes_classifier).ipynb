{
  "nbformat": 4,
  "nbformat_minor": 0,
  "metadata": {
    "colab": {
      "provenance": []
    },
    "kernelspec": {
      "name": "python3",
      "display_name": "Python 3"
    },
    "language_info": {
      "name": "python"
    }
  },
  "cells": [
    {
      "cell_type": "code",
      "source": [
        "from sklearn.datasets import fetch_20newsgroups\n",
        "news = fetch_20newsgroups()"
      ],
      "metadata": {
        "id": "-70el1Z3bIV2"
      },
      "execution_count": 2,
      "outputs": []
    },
    {
      "cell_type": "code",
      "source": [
        "print(news.keys())"
      ],
      "metadata": {
        "colab": {
          "base_uri": "https://localhost:8080/"
        },
        "id": "Cpa9JZk1bRm9",
        "outputId": "52179b83-cad0-4b91-a737-46596af25498"
      },
      "execution_count": 3,
      "outputs": [
        {
          "output_type": "stream",
          "name": "stdout",
          "text": [
            "dict_keys(['data', 'filenames', 'target_names', 'target', 'DESCR'])\n"
          ]
        }
      ]
    },
    {
      "cell_type": "code",
      "source": [
        "news.target"
      ],
      "metadata": {
        "colab": {
          "base_uri": "https://localhost:8080/"
        },
        "id": "Fg3G8VD0baMO",
        "outputId": "1ab02b5a-7a65-4ca9-a58c-b6cdc9af7bd5"
      },
      "execution_count": 4,
      "outputs": [
        {
          "output_type": "execute_result",
          "data": {
            "text/plain": [
              "array([7, 4, 4, ..., 3, 1, 8])"
            ]
          },
          "metadata": {},
          "execution_count": 4
        }
      ]
    },
    {
      "cell_type": "code",
      "source": [
        "news. target_names"
      ],
      "metadata": {
        "colab": {
          "base_uri": "https://localhost:8080/"
        },
        "id": "ukg_NcO4bc09",
        "outputId": "b9d8da8e-b9ae-40c8-dc29-e5cad7f3d676"
      },
      "execution_count": 5,
      "outputs": [
        {
          "output_type": "execute_result",
          "data": {
            "text/plain": [
              "['alt.atheism',\n",
              " 'comp.graphics',\n",
              " 'comp.os.ms-windows.misc',\n",
              " 'comp.sys.ibm.pc.hardware',\n",
              " 'comp.sys.mac.hardware',\n",
              " 'comp.windows.x',\n",
              " 'misc.forsale',\n",
              " 'rec.autos',\n",
              " 'rec.motorcycles',\n",
              " 'rec.sport.baseball',\n",
              " 'rec.sport.hockey',\n",
              " 'sci.crypt',\n",
              " 'sci.electronics',\n",
              " 'sci.med',\n",
              " 'sci.space',\n",
              " 'soc.religion.christian',\n",
              " 'talk.politics.guns',\n",
              " 'talk.politics.mideast',\n",
              " 'talk.politics.misc',\n",
              " 'talk.religion.misc']"
            ]
          },
          "metadata": {},
          "execution_count": 5
        }
      ]
    },
    {
      "cell_type": "code",
      "source": [
        "cats = ['alt.atheism', 'rec.sport.hockey','comp.graphics', 'sci.med']\n",
        "news_train = fetch_20newsgroups(subset ='train', categories=cats)"
      ],
      "metadata": {
        "id": "6R1So5ngbpim"
      },
      "execution_count": 6,
      "outputs": []
    },
    {
      "cell_type": "code",
      "source": [
        "news_test = fetch_20newsgroups(subset= 'test', categories=cats)"
      ],
      "metadata": {
        "id": "P2FCBAHEb0vu"
      },
      "execution_count": 7,
      "outputs": []
    },
    {
      "cell_type": "code",
      "source": [
        "print(news_train . keys( ))\n",
        "print (news_train[ 'target_names'])"
      ],
      "metadata": {
        "colab": {
          "base_uri": "https://localhost:8080/"
        },
        "id": "8xDFhnRXb5Ge",
        "outputId": "ca6f40a6-24b4-4fef-df42-c30366afbbae"
      },
      "execution_count": 8,
      "outputs": [
        {
          "output_type": "stream",
          "name": "stdout",
          "text": [
            "dict_keys(['data', 'filenames', 'target_names', 'target', 'DESCR'])\n",
            "['alt.atheism', 'comp.graphics', 'rec.sport.hockey', 'sci.med']\n"
          ]
        }
      ]
    },
    {
      "cell_type": "code",
      "source": [
        "from sklearn.feature_extraction.text import CountVectorizer\n",
        "\n",
        "count_vect=CountVectorizer()\n",
        "X_train_tf=count_vect.fit_transform(news_train.data)\n",
        "print(X_train_tf)\n",
        "\n",
        "X_train_tf.shape"
      ],
      "metadata": {
        "colab": {
          "base_uri": "https://localhost:8080/"
        },
        "id": "SusekncUcFzP",
        "outputId": "03dfa6f5-0a11-45cf-cd89-a9c395d8d52d"
      },
      "execution_count": 9,
      "outputs": [
        {
          "output_type": "stream",
          "name": "stdout",
          "text": [
            "  (0, 15388)\t4\n",
            "  (0, 16839)\t1\n",
            "  (0, 29282)\t1\n",
            "  (0, 35943)\t1\n",
            "  (0, 13204)\t1\n",
            "  (0, 32350)\t2\n",
            "  (0, 16845)\t2\n",
            "  (0, 31686)\t2\n",
            "  (0, 27601)\t1\n",
            "  (0, 31645)\t3\n",
            "  (0, 24383)\t3\n",
            "  (0, 7586)\t5\n",
            "  (0, 24245)\t7\n",
            "  (0, 22844)\t5\n",
            "  (0, 20822)\t2\n",
            "  (0, 2416)\t2\n",
            "  (0, 24553)\t1\n",
            "  (0, 35166)\t2\n",
            "  (0, 9751)\t1\n",
            "  (0, 18047)\t3\n",
            "  (0, 6093)\t1\n",
            "  (0, 3504)\t1\n",
            "  (0, 13634)\t4\n",
            "  (0, 22259)\t4\n",
            "  (0, 9423)\t4\n",
            "  :\t:\n",
            "  (2257, 18953)\t1\n",
            "  (2257, 35181)\t1\n",
            "  (2257, 26103)\t1\n",
            "  (2257, 6699)\t1\n",
            "  (2257, 34164)\t1\n",
            "  (2257, 27610)\t1\n",
            "  (2257, 4721)\t1\n",
            "  (2257, 27493)\t1\n",
            "  (2257, 19107)\t1\n",
            "  (2257, 6997)\t2\n",
            "  (2257, 9120)\t1\n",
            "  (2257, 35741)\t1\n",
            "  (2257, 25530)\t1\n",
            "  (2257, 880)\t1\n",
            "  (2257, 1142)\t1\n",
            "  (2257, 20948)\t1\n",
            "  (2257, 1400)\t1\n",
            "  (2257, 1999)\t1\n",
            "  (2257, 30975)\t1\n",
            "  (2257, 15026)\t1\n",
            "  (2257, 30437)\t1\n",
            "  (2257, 35272)\t1\n",
            "  (2257, 4706)\t1\n",
            "  (2257, 28332)\t1\n",
            "  (2257, 26100)\t1\n"
          ]
        },
        {
          "output_type": "execute_result",
          "data": {
            "text/plain": [
              "(2258, 36389)"
            ]
          },
          "metadata": {},
          "execution_count": 9
        }
      ]
    },
    {
      "cell_type": "code",
      "source": [
        "from sklearn.feature_extraction.text import TfidfTransformer\n",
        "tfidf_transformer=TfidfTransformer()\n",
        "X_train_tfidf=tfidf_transformer.fit_transform(X_train_tf)\n",
        "X_train_tfidf.shape"
      ],
      "metadata": {
        "colab": {
          "base_uri": "https://localhost:8080/"
        },
        "id": "XUjp7wdPcWEH",
        "outputId": "d0eff36f-c539-4e24-9092-8f9045e5951b"
      },
      "execution_count": 10,
      "outputs": [
        {
          "output_type": "execute_result",
          "data": {
            "text/plain": [
              "(2258, 36389)"
            ]
          },
          "metadata": {},
          "execution_count": 10
        }
      ]
    },
    {
      "cell_type": "code",
      "source": [
        "from sklearn.naive_bayes import MultinomialNB\n",
        "clf = MultinomialNB().fit(X_train_tfidf, news_train.target)"
      ],
      "metadata": {
        "id": "Scbg5d-ZczLX"
      },
      "execution_count": 11,
      "outputs": []
    },
    {
      "cell_type": "code",
      "source": [
        "X_test_tf=count_vect.transform(news_test.data)\n",
        "X_test_tfidf=tfidf_transformer.transform(X_test_tf)\n",
        "predicted=clf.predict(X_test_tfidf)\n",
        "\n",
        "predicted"
      ],
      "metadata": {
        "colab": {
          "base_uri": "https://localhost:8080/"
        },
        "id": "Arfd4Nk3c9WH",
        "outputId": "0be1ccd6-2b58-4190-fd02-2692378ac590"
      },
      "execution_count": 12,
      "outputs": [
        {
          "output_type": "execute_result",
          "data": {
            "text/plain": [
              "array([2, 0, 2, ..., 0, 0, 1])"
            ]
          },
          "metadata": {},
          "execution_count": 12
        }
      ]
    },
    {
      "cell_type": "code",
      "source": [
        "from sklearn import metrics\n",
        "\n",
        "from sklearn.metrics import accuracy_score\n",
        "print(\"Accuracy\",accuracy_score(news_test.target,predicted))\n",
        "print(metrics.confusion_matrix(news_test.target,predicted))"
      ],
      "metadata": {
        "colab": {
          "base_uri": "https://localhost:8080/"
        },
        "id": "H7I1h4kkdXJm",
        "outputId": "0bb69e03-c3dd-4100-c1a4-b187f8af3ef2"
      },
      "execution_count": 13,
      "outputs": [
        {
          "output_type": "stream",
          "name": "stdout",
          "text": [
            "Accuracy 0.9427811044577512\n",
            "[[297   2   6  14]\n",
            " [  8 355   7  19]\n",
            " [  1   0 395   3]\n",
            " [  7  10   9 370]]\n"
          ]
        }
      ]
    }
  ]
}